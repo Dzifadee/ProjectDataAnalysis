{
 "cells": [
  {
   "cell_type": "code",
   "execution_count": null,
   "id": "3f584ac5-452a-4d30-bf42-0a506a061055",
   "metadata": {},
   "outputs": [],
   "source": [
    "Hello Team\n"
   ]
  },
  {
   "cell_type": "code",
   "execution_count": null,
   "id": "198cd3a6-0b0f-4ab9-8356-9d6ff86a21f8",
   "metadata": {},
   "outputs": [],
   "source": []
  },
  {
   "cell_type": "code",
   "execution_count": null,
   "id": "5f43fe34-2c83-490f-b429-2bc599f80367",
   "metadata": {},
   "outputs": [],
   "source": []
  }
 ],
 "metadata": {
  "kernelspec": {
   "display_name": "Python 3 (ipykernel)",
   "language": "python",
   "name": "python3"
  },
  "language_info": {
   "codemirror_mode": {
    "name": "ipython",
    "version": 3
   },
   "file_extension": ".py",
   "mimetype": "text/x-python",
   "name": "python",
   "nbconvert_exporter": "python",
   "pygments_lexer": "ipython3",
   "version": "3.13.1"
  }
 },
 "nbformat": 4,
 "nbformat_minor": 5
}
